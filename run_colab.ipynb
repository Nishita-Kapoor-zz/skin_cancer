{
  "nbformat": 4,
  "nbformat_minor": 0,
  "metadata": {
    "colab": {
      "name": "run_colab.ipynb",
      "provenance": [],
      "authorship_tag": "ABX9TyNMgNks8s6Fy6yKRclBLC4c",
      "include_colab_link": true
    },
    "kernelspec": {
      "name": "python3",
      "display_name": "Python 3"
    },
    "language_info": {
      "name": "python"
    },
    "accelerator": "GPU"
  },
  "cells": [
    {
      "cell_type": "markdown",
      "metadata": {
        "id": "view-in-github",
        "colab_type": "text"
      },
      "source": [
        "<a href=\"https://colab.research.google.com/github/Nishita-Kapoor/skin_cancer/blob/master/run_colab.ipynb\" target=\"_parent\"><img src=\"https://colab.research.google.com/assets/colab-badge.svg\" alt=\"Open In Colab\"/></a>"
      ]
    },
    {
      "cell_type": "code",
      "metadata": {
        "colab": {
          "base_uri": "https://localhost:8080/"
        },
        "id": "CJeWsnr-qYEy",
        "outputId": "e22c04e6-1530-4b7c-9d3f-5062400b31bf"
      },
      "source": [
        "!git clone https://github.com/Nishita-Kapoor/skin_cancer.git"
      ],
      "execution_count": 4,
      "outputs": [
        {
          "output_type": "stream",
          "text": [
            "Cloning into 'skin_cancer'...\n",
            "remote: Enumerating objects: 32, done.\u001b[K\n",
            "remote: Counting objects: 100% (32/32), done.\u001b[K\n",
            "remote: Compressing objects: 100% (26/26), done.\u001b[K\n",
            "remote: Total 32 (delta 7), reused 22 (delta 4), pack-reused 0\u001b[K\n",
            "Unpacking objects: 100% (32/32), done.\n"
          ],
          "name": "stdout"
        }
      ]
    },
    {
      "cell_type": "code",
      "metadata": {
        "id": "fjXywcWJqtS7",
        "outputId": "3bba14e4-30b4-4248-c86d-6b6582c05ce3",
        "colab": {
          "base_uri": "https://localhost:8080/"
        }
      },
      "source": [
        "!ls skin_cancer/"
      ],
      "execution_count": 5,
      "outputs": [
        {
          "output_type": "stream",
          "text": [
            "config\tEDA.ipynb\t\tfloyd.yml  main.py  README.md\t     scripts\n",
            "data\tfloyd_requirements.txt\tLICENSE    model    run_colab.ipynb  utils.py\n"
          ],
          "name": "stdout"
        }
      ]
    },
    {
      "cell_type": "code",
      "metadata": {
        "id": "gdSnS7MdrBXY"
      },
      "source": [
        ""
      ],
      "execution_count": 20,
      "outputs": []
    },
    {
      "cell_type": "markdown",
      "metadata": {
        "id": "bEHw3h2Suyxg"
      },
      "source": [
        "Download Kaggle Dataset"
      ]
    },
    {
      "cell_type": "code",
      "metadata": {
        "id": "z2mZCFForkpc"
      },
      "source": [
        "!mkdir .kaggle\n",
        "!mkdir .s\n",
        "!mkdir skin_data\n",
        "#os.chdir(\"/content/gdrive/My Drive/\""
      ],
      "execution_count": 6,
      "outputs": []
    },
    {
      "cell_type": "code",
      "metadata": {
        "id": "cKM0KbNBrqgc",
        "outputId": "6a7e6bec-98f3-4b1a-a230-29feac889e8a",
        "colab": {
          "base_uri": "https://localhost:8080/"
        }
      },
      "source": [
        "import json\n",
        "token = {\"username\":\"nishitakapoor\",\"key\":\"c71c8f643166bcc7b72ebe85d72a62e5\"} #use your own you will find repo i explain how to connect kaggle to colab\n",
        "with open(\"/content/.s/kaggle.json\", \"w\") as file:\n",
        "    json.dump(token, file)\n",
        "!ls"
      ],
      "execution_count": 11,
      "outputs": [
        {
          "output_type": "stream",
          "text": [
            "sample_data  skin_cancer\n"
          ],
          "name": "stdout"
        }
      ]
    },
    {
      "cell_type": "code",
      "metadata": {
        "id": "GQ7_1poWr0NW"
      },
      "source": [
        "!chmod 600 /content/.s/kaggle.json"
      ],
      "execution_count": 12,
      "outputs": []
    },
    {
      "cell_type": "code",
      "metadata": {
        "id": "Pqar8bIAtGbu"
      },
      "source": [
        "!cp /content/.s/kaggle.json ~/.kaggle/kaggle.json"
      ],
      "execution_count": 13,
      "outputs": []
    },
    {
      "cell_type": "code",
      "metadata": {
        "id": "mT75uvPbtOqS",
        "outputId": "eca365ea-3d4b-4707-91d3-c74f6c7d0e6c",
        "colab": {
          "base_uri": "https://localhost:8080/"
        }
      },
      "source": [
        "!kaggle config set -n path -v{/content}"
      ],
      "execution_count": 14,
      "outputs": [
        {
          "output_type": "stream",
          "text": [
            "- path is now set to: {/content}\n"
          ],
          "name": "stdout"
        }
      ]
    },
    {
      "cell_type": "code",
      "metadata": {
        "id": "zW0b2HHtvBWc",
        "outputId": "6d011a0e-b784-4487-ca01-1248b90a0cd7",
        "colab": {
          "base_uri": "https://localhost:8080/"
        }
      },
      "source": [
        "!kaggle datasets download -d kmader/skin-cancer-mnist-ham10000 -p /content "
      ],
      "execution_count": 15,
      "outputs": [
        {
          "output_type": "stream",
          "text": [
            "Downloading skin-cancer-mnist-ham10000.zip to /content\n",
            "100% 5.19G/5.20G [01:48<00:00, 51.7MB/s]\n",
            "100% 5.20G/5.20G [01:48<00:00, 51.3MB/s]\n"
          ],
          "name": "stdout"
        }
      ]
    },
    {
      "cell_type": "code",
      "metadata": {
        "colab": {
          "base_uri": "https://localhost:8080/"
        },
        "id": "BPHVlLJUvKK_",
        "outputId": "1fa35760-990a-46cf-dfb2-467f3973fb0b"
      },
      "source": [
        "!mv skin-cancer-mnist-ham10000.zip skin_data/\n",
        "!unzip -qq /content/skin_data/skin-cancer-mnist-ham10000.zip "
      ],
      "execution_count": 20,
      "outputs": [
        {
          "output_type": "stream",
          "text": [
            "mv: cannot stat 'skin-cancer-mnist-ham10000.zip': No such file or directory\n"
          ],
          "name": "stdout"
        }
      ]
    },
    {
      "cell_type": "code",
      "metadata": {
        "id": "j9KZkS92xb9N",
        "outputId": "5a6580a8-5361-492c-c02a-5647ad2ee0e3",
        "colab": {
          "base_uri": "https://localhost:8080/"
        }
      },
      "source": [
        "!rm -r ham10000_images_part_1/\n",
        "!rm -r ham10000_images_part_2/\n",
        "!mv HAM10000_images_part_1 skin_data\n",
        "!mv HAM10000_images_part_2 skin_data\n",
        "!mv HAM10000_metadata.csv skin_data\n",
        "!mv hmnist_28_28_L.csv skin_data\n",
        "!mv hmnist_28_28_RGB.csv skin_data\n",
        "!mv hmnist_8_8_L.csv skin_data\n",
        "!mv hmnist_8_8_RGB.csv skin_data\n",
        "!ls"
      ],
      "execution_count": 23,
      "outputs": [
        {
          "output_type": "stream",
          "text": [
            "sample_data  skin_cancer  skin_data\n"
          ],
          "name": "stdout"
        }
      ]
    },
    {
      "cell_type": "markdown",
      "metadata": {
        "id": "bf3od08W0X6M"
      },
      "source": [
        "Run Training"
      ]
    },
    {
      "cell_type": "code",
      "metadata": {
        "id": "F482mM-uyiht",
        "outputId": "02b57d4c-9d6c-4ad1-cb1a-5b0ef2d7d8b8",
        "colab": {
          "base_uri": "https://localhost:8080/"
        }
      },
      "source": [
        "!python skin_cancer/main.py --path skin_data --batch_size 32 --num_epochs 10"
      ],
      "execution_count": null,
      "outputs": [
        {
          "output_type": "stream",
          "text": [
            "cuda\n",
            "The arguments are {'use_cuda': True, 'view_data': False, 'num_epochs': 10, 'train': True, 'path': 'skin_data', 'version': 1, 'batch_size': 32, 'lr': 0.001, 'model': 'resnet18'}\n",
            "/usr/local/lib/python3.7/dist-packages/torch/utils/data/dataloader.py:477: UserWarning: This DataLoader will create 4 worker processes in total. Our suggested max number of worker in current system is 2, which is smaller than what this DataLoader is going to create. Please be aware that excessive worker creation might get DataLoader running slow or even freeze, lower the worker number to avoid potential slowness/freeze if necessary.\n",
            "  cpuset_checked))\n",
            "61it [00:55,  1.14it/s]"
          ],
          "name": "stdout"
        }
      ]
    },
    {
      "cell_type": "code",
      "metadata": {
        "id": "DGPCzlIvy7gZ",
        "outputId": "7790de4c-9643-4910-d6aa-5866b04137a0",
        "colab": {
          "base_uri": "https://localhost:8080/"
        }
      },
      "source": [
        ""
      ],
      "execution_count": 1,
      "outputs": [
        {
          "output_type": "stream",
          "text": [
            "GPU\n"
          ],
          "name": "stdout"
        }
      ]
    },
    {
      "cell_type": "code",
      "metadata": {
        "id": "_1siAGa1zdcz",
        "outputId": "ec31212a-19e1-40c8-82d2-ebc1dad2d07f",
        "colab": {
          "base_uri": "https://localhost:8080/"
        }
      },
      "source": [
        ""
      ],
      "execution_count": 3,
      "outputs": [
        {
          "output_type": "stream",
          "text": [
            "sample_data\n"
          ],
          "name": "stdout"
        }
      ]
    },
    {
      "cell_type": "code",
      "metadata": {
        "id": "3KqW94cXzksl"
      },
      "source": [
        ""
      ],
      "execution_count": 68,
      "outputs": []
    },
    {
      "cell_type": "code",
      "metadata": {
        "id": "XiQ9NevZzn1u"
      },
      "source": [
        ""
      ],
      "execution_count": null,
      "outputs": []
    }
  ]
}